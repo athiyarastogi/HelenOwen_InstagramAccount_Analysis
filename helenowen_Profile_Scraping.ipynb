{
 "metadata": {
  "language_info": {
   "codemirror_mode": {
    "name": "ipython",
    "version": 3
   },
   "file_extension": ".py",
   "mimetype": "text/x-python",
   "name": "python",
   "nbconvert_exporter": "python",
   "pygments_lexer": "ipython3",
   "version": "3.9.1-final"
  },
  "orig_nbformat": 2,
  "kernelspec": {
   "name": "python37464bit01f9ac200bc44f4f9655cc0aa16e2482",
   "display_name": "Python 3.7.4 64-bit",
   "language": "python"
  }
 },
 "nbformat": 4,
 "nbformat_minor": 2,
 "cells": [
  {
   "cell_type": "code",
   "execution_count": 1,
   "metadata": {},
   "outputs": [],
   "source": [
    "#Login Process: https://dev.to/chrisgreening/scraping-every-post-on-an-instagram-profile-with-less-than-10-lines-of-python-1n8b\n",
    "\n",
    "#Profile_Level_Scraping: https://github.com/chris-greening/instascrape/blob/master/tutorial/tutorial/Part%201%20-%20Intro%20to%20the%20API.ipynb\n",
    "\n"
   ]
  },
  {
   "cell_type": "code",
   "execution_count": 55,
   "metadata": {},
   "outputs": [],
   "source": [
    "#Importing the libraries\n",
    "import instascrape\n",
    "from selenium.webdriver import Chrome\n",
    "from selenium import webdriver\n",
    "from selenium.webdriver.common.keys import Keys\n",
    "from selenium.webdriver.support import expected_conditions as EC\n",
    "from selenium.webdriver.common.by import By\n",
    "from selenium.webdriver.support.wait import WebDriverWait\n",
    "from instascrape import scrape_posts, Post, Profile, Hashtag\n",
    "import os\n",
    "import wget\n",
    "from bs4 import BeautifulSoup\n",
    "import pandas as pd \n",
    "import numpy as np"
   ]
  },
  {
   "cell_type": "code",
   "execution_count": 56,
   "metadata": {},
   "outputs": [],
   "source": [
    "#opening the webdriver. I have used selenium which allows us to automate web browsers such as Google Chrome using Python. I will be using chromedriver to automate Google Chrome as my browser.\n",
    "\n",
    "webdriver = Chrome(r'/Users/athiyarastogi/Desktop/chromedriver')"
   ]
  },
  {
   "cell_type": "code",
   "execution_count": 64,
   "metadata": {},
   "outputs": [
    {
     "output_type": "stream",
     "name": "stdout",
     "text": [
      "<Profile>\n"
     ]
    }
   ],
   "source": [
    "#In this case, we are going to have to manually login to our Instagram account when the browser opens so we pass login_first=True. This will give us 60 seconds to enter our username and password (this wait time can be modified to whatever you want).\n",
    "\n",
    "#I will be using Helen Owen's Profile to do the analysis.\n",
    "\n",
    "headers = {\n",
    "    \"user-agent\": \"Mozilla/5.0 (Linux; Android 6.0; Nexus 5 Build/MRA58N) AppleWebKit/537.36 (KHTML, like Gecko) Chrome/87.0.4280.88 Mobile Safari/537.36 Edg/87.0.664.57\",\n",
    "    \"cookie\": \"sessionid=44118920547%3ACzxA8sLBdWVRX3%3A3;\"\n",
    "}\n",
    "\n",
    "helen = Profile('helenowen')\n",
    "print(helen)\n",
    "helen_post = Post('CJUh48-jGLC')\n",
    "helen_hashtag = Hashtag('helenowen')"
   ]
  },
  {
   "cell_type": "code",
   "execution_count": 71,
   "metadata": {},
   "outputs": [
    {
     "output_type": "stream",
     "name": "stdout",
     "text": [
      "1409\n"
     ]
    }
   ],
   "source": [
    "posts = helen.get_posts(webdriver=webdriver, login_first=False)\n",
    "print(len(posts))"
   ]
  },
  {
   "cell_type": "code",
   "execution_count": 72,
   "metadata": {},
   "outputs": [
    {
     "output_type": "stream",
     "name": "stdout",
     "text": [
      "1409\n"
     ]
    }
   ],
   "source": [
    "print(len(posts))"
   ]
  },
  {
   "cell_type": "code",
   "execution_count": 76,
   "metadata": {},
   "outputs": [],
   "source": [
    "#We can see almost immediately what our intentions are with this script:\n",
    "\n",
    "\n",
    "#one profile: To get all the high level details of a profile\n",
    "#scrape one post: To get the count of data points from a single post\n",
    "\n",
    "helen.scrape(headers=headers)\n",
    "helen_post.scrape()"
   ]
  },
  {
   "cell_type": "code",
   "execution_count": 77,
   "metadata": {},
   "outputs": [
    {
     "output_type": "stream",
     "name": "stdout",
     "text": [
      "Helen has 1,630,897 followers.\nHelen is verified\nHelen is following 466 accounts\nHelen has 1,409 posts\n"
     ]
    }
   ],
   "source": [
    "#Scraping basic statistics for Helen's profile - Followers, Following, Number of Posts and if the account is verified.\n",
    "\n",
    "\n",
    "print(f\"Helen has {helen.followers:,} followers.\")\n",
    "if helen.is_verified: \n",
    "    print(\"Helen is verified\")\n",
    "if helen.is_business_account:\n",
    "    print(\"Helen is a business account\")\n",
    "\n",
    "# instascrape also supports bracket notation\n",
    "print(f\"Helen is following {helen['following']} accounts\")\n",
    "print(f\"Helen has {helen['posts']:,} posts\")"
   ]
  },
  {
   "cell_type": "code",
   "execution_count": 78,
   "metadata": {},
   "outputs": [
    {
     "output_type": "stream",
     "name": "stdout",
     "text": [
      "{'id': '2473751144632705730', 'shortcode': 'CJUh48-jGLC', 'height': 1348, 'width': 1080, 'gating_info': None, 'fact_check_overall_rating': None, 'fact_check_information': None, 'sensitivity_friction_info': None, 'media_overlay_info': None, 'media_preview': None, 'display_url': 'https://instagram.fybz2-2.fna.fbcdn.net/v/t51.2885-15/e35/p1080x1080/133008513_124894176111054_5459910308351494646_n.jpg?_nc_ht=instagram.fybz2-2.fna.fbcdn.net&_nc_cat=106&_nc_ohc=274LjMWvHdoAX95ywN2&tp=1&oh=ccceab8edcf152536bd5b6a176b49939&oe=604BB66C', 'accessibility_caption': 'Photo by Helen Owen on December 27, 2020. May be an image of 1 person, hair, standing and outerwear.', 'is_video': False, 'tracking_token': 'eyJ2ZXJzaW9uIjo1LCJwYXlsb2FkIjp7ImlzX2FuYWx5dGljc190cmFja2VkIjp0cnVlLCJ1dWlkIjoiYThhZmIyNDcwN2Y4NGFkZWJmY2NlZDAyZjJmODAzYzkyNDczNzUxMTQ0NjMyNzA1NzMwIn0sInNpZ25hdHVyZSI6IiJ9', 'tagged_users': ['glennellishair'], 'caption': \"In the past month or so I've started to actually put effort into styling my hair beyond the quick blow-dry I’ve been doing since I was a teen. Prior to my recent hair styling phase I always thought of curling hair as too daunting a task, but let me just say - I GET IT NOW GIRLS. It’s totally worthwhile. New YouTube video where my hairstylist @glennellishair shows me how to create my dream loose wave hairstyle and I (attempt to) learn the technique. Link in bio to watch!\", 'caption_is_edited': False, 'has_ranked_comments': False, 'comments': 277, 'comments_disabled': False, 'commenting_disabled_for_viewer': False, 'timestamp': 1609114138, 'likes': 61900, 'location': nan, 'viewer_has_liked': False, 'viewer_has_saved': False, 'viewer_has_saved_to_collection': False, 'viewer_in_photo_of_you': False, 'viewer_can_reshare': True, 'video_url': nan, 'has_audio': nan, 'video_view_count': nan, 'username': 'helenowen', 'full_name': 'Helen Owen', 'upload_date': datetime.datetime(2020, 12, 27, 19, 8, 58), 'hashtags': []}\n"
     ]
    }
   ],
   "source": [
    "dictionary = (helen_post.to_dict())\n",
    "print(dictionary)"
   ]
  },
  {
   "cell_type": "code",
   "execution_count": 79,
   "metadata": {},
   "outputs": [
    {
     "output_type": "stream",
     "name": "stdout",
     "text": [
      "['accessibility_caption', 'caption', 'caption_is_edited', 'commenting_disabled_for_viewer', 'comments', 'comments_disabled', 'display_url', 'fact_check_information', 'fact_check_overall_rating', 'full_name', 'gating_info', 'has_audio', 'has_ranked_comments', 'hashtags', 'height', 'id', 'is_video', 'likes', 'location', 'media_overlay_info', 'media_preview', 'sensitivity_friction_info', 'shortcode', 'tagged_users', 'timestamp', 'tracking_token', 'upload_date', 'username', 'video_url', 'video_view_count', 'viewer_can_reshare', 'viewer_has_liked', 'viewer_has_saved', 'viewer_has_saved_to_collection', 'viewer_in_photo_of_you', 'width']\n"
     ]
    }
   ],
   "source": [
    "print(sorted(helen_post.to_dict()))"
   ]
  },
  {
   "cell_type": "code",
   "execution_count": 80,
   "metadata": {},
   "outputs": [
    {
     "output_type": "stream",
     "name": "stdout",
     "text": [
      "36\n"
     ]
    }
   ],
   "source": [
    "#Given there are 36 data points and 1409 posts. I have scraped a total of 50,724 (1409*36) data points from Helen's Profile to do the analysis on.\n",
    "print(len(sorted(helen_post.to_dict())))"
   ]
  },
  {
   "cell_type": "code",
   "execution_count": null,
   "metadata": {},
   "outputs": [],
   "source": []
  }
 ]
}